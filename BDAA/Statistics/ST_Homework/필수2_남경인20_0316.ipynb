{
 "cells": [
  {
   "cell_type": "code",
   "execution_count": 3,
   "metadata": {},
   "outputs": [],
   "source": [
    "import seaborn as sns\n",
    "import pandas as pd"
   ]
  },
  {
   "cell_type": "code",
   "execution_count": 2,
   "metadata": {},
   "outputs": [],
   "source": [
    "tt = sns.load_dataset('titanic')"
   ]
  },
  {
   "cell_type": "code",
   "execution_count": 5,
   "metadata": {},
   "outputs": [],
   "source": [
    "sexgr = tt.groupby(['pclass', 'sex']).agg({'survived' : ['count', 'sum']})\n",
    "# .agg : 'aggregate'의 줄임말. 그룹화된 데이터에 대해 하나 이상의 연산을 동시에 적용할 수 있게 됨. sum, count 등 다양한 통계적 연산을 한 번에 수행 가능. 위의 경우 count와 sum을 한 번에 수행함으로써 각 그룹의 전체 인원 수와 생존자 수를 동시에 계산할 수 있음\n",
    "sexgr.columns = ['total', 'survived']\n",
    "# 단일 인덱스화: .agg를 사용할 시 데이터프레임의 칼럼이 각각의 통계 계산값에 대한 복수의 레벨을 가지는 멀티 인덱스가 됨. 데이터 처리 단순화를 위해선 이후 단일 인덱스로 위와 같이 수정함으로써 업무 처리의 호환성을 높여야 함\n",
    "sexgr['survival_rate'] = sexgr['survived']/sexgr['total']"
   ]
  },
  {
   "cell_type": "code",
   "execution_count": 6,
   "metadata": {},
   "outputs": [],
   "source": [
    "tt['pclass_sex_prob'] = 0\n",
    "# 파생변수 칼럼 생성 및 초기화"
   ]
  },
  {
   "cell_type": "code",
   "execution_count": 10,
   "metadata": {},
   "outputs": [],
   "source": [
    "# 데이터를 for문으로 순회하며 각 행에 대한 생존 확률 할당하기\n",
    "for i in range(len(tt)):\n",
    "    pclass = tt.loc[i, 'pclass']\n",
    "    sex = tt.loc[i, 'sex']\n",
    "    survival_prob = sexgr.loc[(pclass, sex), 'survival_rate']\n",
    "    # 해당 pclass와 sex를 조합한 그룹의 생존 확률 찾기\n",
    "    tt.at[i, 'pclass_sex_prob'] = survival_prob\n",
    "    # 찾은 확률을 새 컬럼에 할당"
   ]
  },
  {
   "cell_type": "code",
   "execution_count": 9,
   "metadata": {},
   "outputs": [
    {
     "name": "stdout",
     "output_type": "stream",
     "text": [
      "   pclass     sex  pclass_sex_prob\n",
      "0       3    male         0.135447\n",
      "1       1  female         0.968085\n",
      "2       3  female         0.500000\n",
      "3       1  female         0.968085\n",
      "4       3    male         0.135447\n"
     ]
    }
   ],
   "source": [
    "print(tt[['pclass', 'sex', 'pclass_sex_prob']].head())"
   ]
  },
  {
   "cell_type": "code",
   "execution_count": null,
   "metadata": {},
   "outputs": [],
   "source": []
  }
 ],
 "metadata": {
  "kernelspec": {
   "display_name": "Python 3",
   "language": "python",
   "name": "python3"
  },
  "language_info": {
   "codemirror_mode": {
    "name": "ipython",
    "version": 3
   },
   "file_extension": ".py",
   "mimetype": "text/x-python",
   "name": "python",
   "nbconvert_exporter": "python",
   "pygments_lexer": "ipython3",
   "version": "3.12.2"
  }
 },
 "nbformat": 4,
 "nbformat_minor": 2
}
