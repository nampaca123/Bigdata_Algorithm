{
 "cells": [
  {
   "cell_type": "code",
   "execution_count": 8,
   "metadata": {},
   "outputs": [],
   "source": [
    "import math"
   ]
  },
  {
   "cell_type": "code",
   "execution_count": 9,
   "metadata": {},
   "outputs": [],
   "source": [
    "D = int(3800) # Annual Demand\n",
    "H = int(38) # Cost of holding one unit\n",
    "S = int(450) # Cost of ordering per lot"
   ]
  },
  {
   "cell_type": "code",
   "execution_count": 10,
   "metadata": {},
   "outputs": [
    {
     "name": "stdout",
     "output_type": "stream",
     "text": [
      "EOQ (Economic Order Quantity) is 300.0\n"
     ]
    }
   ],
   "source": [
    "# 1) How many microchips should this company order each time?\n",
    "EOQ = math.sqrt((2*D*S)/H)\n",
    "print(\"EOQ (Economic Order Quantity) is\",EOQ)"
   ]
  },
  {
   "cell_type": "code",
   "execution_count": 11,
   "metadata": {},
   "outputs": [
    {
     "name": "stdout",
     "output_type": "stream",
     "text": [
      "Number of orders per year should be 13 days\n"
     ]
    }
   ],
   "source": [
    "# 2) How many times should this company place orders in a year?\n",
    "print(\"Number of orders per year should be\",round(D/EOQ),\"days\")"
   ]
  },
  {
   "cell_type": "code",
   "execution_count": 12,
   "metadata": {},
   "outputs": [
    {
     "name": "stdout",
     "output_type": "stream",
     "text": [
      "Average Holding Time is 14 days\n"
     ]
    }
   ],
   "source": [
    "# 3) How long on average does this company hold an inventory?\n",
    "print(\"Average Holding Time is\", round((EOQ/(2*D))*365),\"days\")"
   ]
  },
  {
   "cell_type": "code",
   "execution_count": 13,
   "metadata": {},
   "outputs": [
    {
     "name": "stdout",
     "output_type": "stream",
     "text": [
      "Total ordering cost is 5850\n",
      "Total Holding cost is 5700\n",
      "Total Cost is 11550\n"
     ]
    }
   ],
   "source": [
    "# 4) How much does this company pay for ordering and holding inventories in a year?\n",
    "TOQ = round(D/EOQ)*S\n",
    "print(\"Total ordering cost is\", TOQ)\n",
    "THC = round((EOQ/2)*H)\n",
    "print(\"Total Holding cost is\", THC)\n",
    "print(\"Total Cost is\",TOQ+THC)"
   ]
  }
 ],
 "metadata": {
  "kernelspec": {
   "display_name": "Python 3",
   "language": "python",
   "name": "python3"
  },
  "language_info": {
   "codemirror_mode": {
    "name": "ipython",
    "version": 3
   },
   "file_extension": ".py",
   "mimetype": "text/x-python",
   "name": "python",
   "nbconvert_exporter": "python",
   "pygments_lexer": "ipython3",
   "version": "3.12.2"
  }
 },
 "nbformat": 4,
 "nbformat_minor": 2
}
