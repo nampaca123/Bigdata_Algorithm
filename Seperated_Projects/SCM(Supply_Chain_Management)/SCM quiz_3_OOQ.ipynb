{
 "cells": [
  {
   "cell_type": "code",
   "execution_count": 29,
   "metadata": {},
   "outputs": [],
   "source": [
    "import math"
   ]
  },
  {
   "cell_type": "code",
   "execution_count": 30,
   "metadata": {},
   "outputs": [],
   "source": [
    "Demand_A = int(20000) \n",
    "Demand_B = int(15000)\n",
    "Demand_C = int(10000)\n",
    "Material_cost_A = int(5000) \n",
    "Material_cost_B = int(3000) \n",
    "Material_cost_C = int(1000)\n",
    "Ordering_cost = int(5000) \n",
    "Additional_fixed_cost = int(500)\n",
    "Holding_cost = float(0.25)\n",
    "\n",
    "# hc = Holding Cost\n",
    "hc_a = float(Holding_cost*Material_cost_A)\n",
    "hc_b = float(Holding_cost*Material_cost_B)\n",
    "hc_c = float(Holding_cost*Material_cost_C)"
   ]
  },
  {
   "cell_type": "code",
   "execution_count": 31,
   "metadata": {},
   "outputs": [],
   "source": [
    "eoq_a=math.sqrt((2*Demand_A*(Ordering_cost+Additional_fixed_cost))/hc_a)\n",
    "eoq_b=math.sqrt((2*Demand_B*(Ordering_cost+Additional_fixed_cost))/hc_b)\n",
    "eoq_c=math.sqrt((2*Demand_C*(Ordering_cost+Additional_fixed_cost))/hc_c)\n"
   ]
  },
  {
   "cell_type": "code",
   "execution_count": 32,
   "metadata": {},
   "outputs": [
    {
     "name": "stdout",
     "output_type": "stream",
     "text": [
      "※ Optimal Order Quantities for Product A, B, C\n",
      "A:  419.52\n",
      "B:  469.04\n",
      "C:  663.32\n"
     ]
    }
   ],
   "source": [
    "# Optimal Order Quantities for three products\n",
    "\n",
    "print(\"※ Optimal Order Quantities for Product A, B, C\")\n",
    "print(\"A: \", round(eoq_a,2))\n",
    "print(\"B: \", round(eoq_b,2))\n",
    "print(\"C: \", round(eoq_c,2))\n"
   ]
  },
  {
   "cell_type": "code",
   "execution_count": 33,
   "metadata": {},
   "outputs": [
    {
     "name": "stdout",
     "output_type": "stream",
     "text": [
      "※ Optimal Order Frequencies for Product A, B, C\n",
      "A:  47.67\n",
      "B:  31.98\n",
      "C:  15.08\n"
     ]
    }
   ],
   "source": [
    "# Optimal Order Frequencies for three products\n",
    "\n",
    "print(\"※ Optimal Order Frequencies for Product A, B, C\")\n",
    "print(\"A: \",round(Demand_A/eoq_a,2))\n",
    "print(\"B: \",round(Demand_B/eoq_b,2))\n",
    "print(\"C: \",round(Demand_C/eoq_c,2))"
   ]
  },
  {
   "cell_type": "code",
   "execution_count": 35,
   "metadata": {},
   "outputs": [
    {
     "name": "stdout",
     "output_type": "stream",
     "text": [
      "※ Total Costs for Product A, B, C\n",
      "A:  524404.42\n",
      "B:  351781.18\n",
      "C:  165831.24\n",
      "Total Costs:  1042016.85\n"
     ]
    }
   ],
   "source": [
    "# Total Ordering Costs for three products\n",
    "tto_a=Demand_A*(Ordering_cost+Additional_fixed_cost)/eoq_a\n",
    "tto_b=Demand_B*(Ordering_cost+Additional_fixed_cost)/eoq_b\n",
    "tto_c=Demand_C*(Ordering_cost+Additional_fixed_cost)/eoq_c\n",
    "\n",
    "# Total Inventory Holding Costs for three products\n",
    "tihc_a=hc_a*eoq_a/2\n",
    "tihc_b=hc_b*eoq_b/2\n",
    "tihc_c=hc_c*eoq_c/2\n",
    "\n",
    "# Total Costs for three products\n",
    "tc_a=tto_a+tihc_a\n",
    "tc_b=tto_b+tihc_b\n",
    "tc_c=tto_c+tihc_c\n",
    "\n",
    "print(\"※ Total Costs for Product A, B, C\")\n",
    "print(\"A: \",round(tc_a,2))\n",
    "print(\"B: \",round(tc_b,2))\n",
    "print(\"C: \",round(tc_c,2))\n",
    "print(\"Total Costs: \",round(tc_a+tc_b+tc_c,2))"
   ]
  }
 ],
 "metadata": {
  "kernelspec": {
   "display_name": "Python 3",
   "language": "python",
   "name": "python3"
  },
  "language_info": {
   "codemirror_mode": {
    "name": "ipython",
    "version": 3
   },
   "file_extension": ".py",
   "mimetype": "text/x-python",
   "name": "python",
   "nbconvert_exporter": "python",
   "pygments_lexer": "ipython3",
   "version": "3.12.2"
  }
 },
 "nbformat": 4,
 "nbformat_minor": 2
}
